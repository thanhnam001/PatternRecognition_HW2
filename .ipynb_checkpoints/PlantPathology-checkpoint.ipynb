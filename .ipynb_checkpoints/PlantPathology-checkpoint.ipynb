{
 "cells": [
  {
   "cell_type": "code",
   "execution_count": 1,
   "id": "05aa485a",
   "metadata": {
    "execution": {
     "iopub.execute_input": "2022-04-11T19:09:10.071425Z",
     "iopub.status.busy": "2022-04-11T19:09:10.070751Z",
     "iopub.status.idle": "2022-04-11T19:09:14.959903Z",
     "shell.execute_reply": "2022-04-11T19:09:14.959156Z",
     "shell.execute_reply.started": "2022-04-11T17:46:47.101612Z"
    },
    "papermill": {
     "duration": 4.928791,
     "end_time": "2022-04-11T19:09:14.960058",
     "exception": false,
     "start_time": "2022-04-11T19:09:10.031267",
     "status": "completed"
    },
    "tags": []
   },
   "outputs": [],
   "source": [
    "import numpy as np\n",
    "import pandas as pd\n",
    "import matplotlib.pyplot as plt\n",
    "import tensorflow as tf\n",
    "from tensorflow.keras import layers\n",
    "from tensorflow.keras import Sequential"
   ]
  },
  {
   "cell_type": "code",
   "execution_count": 2,
   "id": "faf7a5c4",
   "metadata": {
    "execution": {
     "iopub.execute_input": "2022-04-11T19:09:15.014729Z",
     "iopub.status.busy": "2022-04-11T19:09:15.013964Z",
     "iopub.status.idle": "2022-04-11T19:09:15.030573Z",
     "shell.execute_reply": "2022-04-11T19:09:15.031028Z",
     "shell.execute_reply.started": "2022-04-11T17:46:52.498330Z"
    },
    "papermill": {
     "duration": 0.045816,
     "end_time": "2022-04-11T19:09:15.031171",
     "exception": false,
     "start_time": "2022-04-11T19:09:14.985355",
     "status": "completed"
    },
    "tags": []
   },
   "outputs": [],
   "source": [
    "train_df = pd.read_csv('train.csv')\n",
    "test_df = pd.read_csv('test.csv')"
   ]
  },
  {
   "cell_type": "code",
   "execution_count": 3,
   "id": "c527a4b6",
   "metadata": {
    "execution": {
     "iopub.execute_input": "2022-04-11T19:09:15.091529Z",
     "iopub.status.busy": "2022-04-11T19:09:15.090864Z",
     "iopub.status.idle": "2022-04-11T19:09:15.102060Z",
     "shell.execute_reply": "2022-04-11T19:09:15.102571Z",
     "shell.execute_reply.started": "2022-04-11T17:46:52.531210Z"
    },
    "papermill": {
     "duration": 0.043557,
     "end_time": "2022-04-11T19:09:15.102715",
     "exception": false,
     "start_time": "2022-04-11T19:09:15.059158",
     "status": "completed"
    },
    "tags": []
   },
   "outputs": [
    {
     "data": {
      "text/html": [
       "<div>\n",
       "<style scoped>\n",
       "    .dataframe tbody tr th:only-of-type {\n",
       "        vertical-align: middle;\n",
       "    }\n",
       "\n",
       "    .dataframe tbody tr th {\n",
       "        vertical-align: top;\n",
       "    }\n",
       "\n",
       "    .dataframe thead th {\n",
       "        text-align: right;\n",
       "    }\n",
       "</style>\n",
       "<table border=\"1\" class=\"dataframe\">\n",
       "  <thead>\n",
       "    <tr style=\"text-align: right;\">\n",
       "      <th></th>\n",
       "      <th>image_id</th>\n",
       "      <th>healthy</th>\n",
       "      <th>multiple_diseases</th>\n",
       "      <th>rust</th>\n",
       "      <th>scab</th>\n",
       "    </tr>\n",
       "  </thead>\n",
       "  <tbody>\n",
       "    <tr>\n",
       "      <th>0</th>\n",
       "      <td>Train_0</td>\n",
       "      <td>0</td>\n",
       "      <td>0</td>\n",
       "      <td>0</td>\n",
       "      <td>1</td>\n",
       "    </tr>\n",
       "    <tr>\n",
       "      <th>1</th>\n",
       "      <td>Train_1</td>\n",
       "      <td>0</td>\n",
       "      <td>1</td>\n",
       "      <td>0</td>\n",
       "      <td>0</td>\n",
       "    </tr>\n",
       "    <tr>\n",
       "      <th>2</th>\n",
       "      <td>Train_2</td>\n",
       "      <td>1</td>\n",
       "      <td>0</td>\n",
       "      <td>0</td>\n",
       "      <td>0</td>\n",
       "    </tr>\n",
       "    <tr>\n",
       "      <th>3</th>\n",
       "      <td>Train_3</td>\n",
       "      <td>0</td>\n",
       "      <td>0</td>\n",
       "      <td>1</td>\n",
       "      <td>0</td>\n",
       "    </tr>\n",
       "    <tr>\n",
       "      <th>4</th>\n",
       "      <td>Train_4</td>\n",
       "      <td>1</td>\n",
       "      <td>0</td>\n",
       "      <td>0</td>\n",
       "      <td>0</td>\n",
       "    </tr>\n",
       "  </tbody>\n",
       "</table>\n",
       "</div>"
      ],
      "text/plain": [
       "  image_id  healthy  multiple_diseases  rust  scab\n",
       "0  Train_0        0                  0     0     1\n",
       "1  Train_1        0                  1     0     0\n",
       "2  Train_2        1                  0     0     0\n",
       "3  Train_3        0                  0     1     0\n",
       "4  Train_4        1                  0     0     0"
      ]
     },
     "execution_count": 3,
     "metadata": {},
     "output_type": "execute_result"
    }
   ],
   "source": [
    "train_df.head()"
   ]
  },
  {
   "cell_type": "code",
   "execution_count": 4,
   "id": "cb8b5a8a",
   "metadata": {
    "execution": {
     "iopub.execute_input": "2022-04-11T19:09:15.157411Z",
     "iopub.status.busy": "2022-04-11T19:09:15.156609Z",
     "iopub.status.idle": "2022-04-11T19:09:15.279094Z",
     "shell.execute_reply": "2022-04-11T19:09:15.278610Z",
     "shell.execute_reply.started": "2022-04-11T17:46:52.554688Z"
    },
    "papermill": {
     "duration": 0.15109,
     "end_time": "2022-04-11T19:09:15.279225",
     "exception": false,
     "start_time": "2022-04-11T19:09:15.128135",
     "status": "completed"
    },
    "tags": []
   },
   "outputs": [],
   "source": [
    "train_df['label'] = train_df.apply(lambda x: np.argmax(x[1:]),axis=1)"
   ]
  },
  {
   "cell_type": "code",
   "execution_count": 5,
   "id": "8f98a13f",
   "metadata": {
    "execution": {
     "iopub.execute_input": "2022-04-11T19:09:15.339192Z",
     "iopub.status.busy": "2022-04-11T19:09:15.338445Z",
     "iopub.status.idle": "2022-04-11T19:09:15.341177Z",
     "shell.execute_reply": "2022-04-11T19:09:15.341604Z",
     "shell.execute_reply.started": "2022-04-11T17:46:52.688141Z"
    },
    "papermill": {
     "duration": 0.037405,
     "end_time": "2022-04-11T19:09:15.341739",
     "exception": false,
     "start_time": "2022-04-11T19:09:15.304334",
     "status": "completed"
    },
    "tags": []
   },
   "outputs": [
    {
     "data": {
      "text/html": [
       "<div>\n",
       "<style scoped>\n",
       "    .dataframe tbody tr th:only-of-type {\n",
       "        vertical-align: middle;\n",
       "    }\n",
       "\n",
       "    .dataframe tbody tr th {\n",
       "        vertical-align: top;\n",
       "    }\n",
       "\n",
       "    .dataframe thead th {\n",
       "        text-align: right;\n",
       "    }\n",
       "</style>\n",
       "<table border=\"1\" class=\"dataframe\">\n",
       "  <thead>\n",
       "    <tr style=\"text-align: right;\">\n",
       "      <th></th>\n",
       "      <th>image_id</th>\n",
       "      <th>healthy</th>\n",
       "      <th>multiple_diseases</th>\n",
       "      <th>rust</th>\n",
       "      <th>scab</th>\n",
       "      <th>label</th>\n",
       "    </tr>\n",
       "  </thead>\n",
       "  <tbody>\n",
       "    <tr>\n",
       "      <th>0</th>\n",
       "      <td>Train_0</td>\n",
       "      <td>0</td>\n",
       "      <td>0</td>\n",
       "      <td>0</td>\n",
       "      <td>1</td>\n",
       "      <td>3</td>\n",
       "    </tr>\n",
       "    <tr>\n",
       "      <th>1</th>\n",
       "      <td>Train_1</td>\n",
       "      <td>0</td>\n",
       "      <td>1</td>\n",
       "      <td>0</td>\n",
       "      <td>0</td>\n",
       "      <td>1</td>\n",
       "    </tr>\n",
       "    <tr>\n",
       "      <th>2</th>\n",
       "      <td>Train_2</td>\n",
       "      <td>1</td>\n",
       "      <td>0</td>\n",
       "      <td>0</td>\n",
       "      <td>0</td>\n",
       "      <td>0</td>\n",
       "    </tr>\n",
       "    <tr>\n",
       "      <th>3</th>\n",
       "      <td>Train_3</td>\n",
       "      <td>0</td>\n",
       "      <td>0</td>\n",
       "      <td>1</td>\n",
       "      <td>0</td>\n",
       "      <td>2</td>\n",
       "    </tr>\n",
       "    <tr>\n",
       "      <th>4</th>\n",
       "      <td>Train_4</td>\n",
       "      <td>1</td>\n",
       "      <td>0</td>\n",
       "      <td>0</td>\n",
       "      <td>0</td>\n",
       "      <td>0</td>\n",
       "    </tr>\n",
       "  </tbody>\n",
       "</table>\n",
       "</div>"
      ],
      "text/plain": [
       "  image_id  healthy  multiple_diseases  rust  scab  label\n",
       "0  Train_0        0                  0     0     1      3\n",
       "1  Train_1        0                  1     0     0      1\n",
       "2  Train_2        1                  0     0     0      0\n",
       "3  Train_3        0                  0     1     0      2\n",
       "4  Train_4        1                  0     0     0      0"
      ]
     },
     "execution_count": 5,
     "metadata": {},
     "output_type": "execute_result"
    }
   ],
   "source": [
    "train_df.head()"
   ]
  },
  {
   "cell_type": "code",
   "execution_count": 6,
   "id": "531dab43",
   "metadata": {
    "execution": {
     "iopub.execute_input": "2022-04-11T19:09:15.397477Z",
     "iopub.status.busy": "2022-04-11T19:09:15.396941Z",
     "iopub.status.idle": "2022-04-11T19:09:15.455799Z",
     "shell.execute_reply": "2022-04-11T19:09:15.454950Z",
     "shell.execute_reply.started": "2022-04-11T17:46:52.700536Z"
    },
    "papermill": {
     "duration": 0.088607,
     "end_time": "2022-04-11T19:09:15.455953",
     "exception": false,
     "start_time": "2022-04-11T19:09:15.367346",
     "status": "completed"
    },
    "tags": []
   },
   "outputs": [
    {
     "ename": "FileNotFoundError",
     "evalue": "[Errno 2] No such file or directory: 'Train_0.jpg'",
     "output_type": "error",
     "traceback": [
      "\u001b[1;31m---------------------------------------------------------------------------\u001b[0m",
      "\u001b[1;31mFileNotFoundError\u001b[0m                         Traceback (most recent call last)",
      "\u001b[1;32m~\\AppData\\Local\\Temp/ipykernel_4600/1463852782.py\u001b[0m in \u001b[0;36m<module>\u001b[1;34m\u001b[0m\n\u001b[0;32m      1\u001b[0m \u001b[1;32mfrom\u001b[0m \u001b[0mPIL\u001b[0m \u001b[1;32mimport\u001b[0m \u001b[0mImage\u001b[0m\u001b[1;33m\u001b[0m\u001b[1;33m\u001b[0m\u001b[0m\n\u001b[1;32m----> 2\u001b[1;33m \u001b[0mimg\u001b[0m \u001b[1;33m=\u001b[0m \u001b[0mImage\u001b[0m\u001b[1;33m.\u001b[0m\u001b[0mopen\u001b[0m\u001b[1;33m(\u001b[0m\u001b[1;34m'Train_0.jpg'\u001b[0m\u001b[1;33m)\u001b[0m\u001b[1;33m\u001b[0m\u001b[1;33m\u001b[0m\u001b[0m\n\u001b[0m\u001b[0;32m      3\u001b[0m \u001b[0mnparr\u001b[0m  \u001b[1;33m=\u001b[0m \u001b[0mnp\u001b[0m\u001b[1;33m.\u001b[0m\u001b[0masarray\u001b[0m\u001b[1;33m(\u001b[0m\u001b[0mimg\u001b[0m\u001b[1;33m)\u001b[0m\u001b[1;33m\u001b[0m\u001b[1;33m\u001b[0m\u001b[0m\n",
      "\u001b[1;32m~\\anaconda3\\envs\\min_ds-env\\lib\\site-packages\\PIL\\Image.py\u001b[0m in \u001b[0;36mopen\u001b[1;34m(fp, mode, formats)\u001b[0m\n\u001b[0;32m   2966\u001b[0m \u001b[1;33m\u001b[0m\u001b[0m\n\u001b[0;32m   2967\u001b[0m     \u001b[1;32mif\u001b[0m \u001b[0mfilename\u001b[0m\u001b[1;33m:\u001b[0m\u001b[1;33m\u001b[0m\u001b[1;33m\u001b[0m\u001b[0m\n\u001b[1;32m-> 2968\u001b[1;33m         \u001b[0mfp\u001b[0m \u001b[1;33m=\u001b[0m \u001b[0mbuiltins\u001b[0m\u001b[1;33m.\u001b[0m\u001b[0mopen\u001b[0m\u001b[1;33m(\u001b[0m\u001b[0mfilename\u001b[0m\u001b[1;33m,\u001b[0m \u001b[1;34m\"rb\"\u001b[0m\u001b[1;33m)\u001b[0m\u001b[1;33m\u001b[0m\u001b[1;33m\u001b[0m\u001b[0m\n\u001b[0m\u001b[0;32m   2969\u001b[0m         \u001b[0mexclusive_fp\u001b[0m \u001b[1;33m=\u001b[0m \u001b[1;32mTrue\u001b[0m\u001b[1;33m\u001b[0m\u001b[1;33m\u001b[0m\u001b[0m\n\u001b[0;32m   2970\u001b[0m \u001b[1;33m\u001b[0m\u001b[0m\n",
      "\u001b[1;31mFileNotFoundError\u001b[0m: [Errno 2] No such file or directory: 'Train_0.jpg'"
     ]
    }
   ],
   "source": [
    "from PIL import Image\n",
    "img = Image.open('Train_0.jpg')\n",
    "nparr  = np.asarray(img)"
   ]
  },
  {
   "cell_type": "code",
   "execution_count": null,
   "id": "c46c4832",
   "metadata": {
    "execution": {
     "iopub.execute_input": "2022-04-11T19:09:15.513824Z",
     "iopub.status.busy": "2022-04-11T19:09:15.513210Z",
     "iopub.status.idle": "2022-04-11T19:09:15.515904Z",
     "shell.execute_reply": "2022-04-11T19:09:15.516307Z",
     "shell.execute_reply.started": "2022-04-11T17:46:52.770987Z"
    },
    "papermill": {
     "duration": 0.032846,
     "end_time": "2022-04-11T19:09:15.516438",
     "exception": false,
     "start_time": "2022-04-11T19:09:15.483592",
     "status": "completed"
    },
    "tags": []
   },
   "outputs": [],
   "source": [
    "nparr.shape"
   ]
  },
  {
   "cell_type": "code",
   "execution_count": null,
   "id": "2c4b504a",
   "metadata": {
    "execution": {
     "iopub.execute_input": "2022-04-11T19:09:15.571788Z",
     "iopub.status.busy": "2022-04-11T19:09:15.571223Z",
     "iopub.status.idle": "2022-04-11T19:09:15.574978Z",
     "shell.execute_reply": "2022-04-11T19:09:15.574539Z",
     "shell.execute_reply.started": "2022-04-11T17:46:52.778571Z"
    },
    "papermill": {
     "duration": 0.033254,
     "end_time": "2022-04-11T19:09:15.575090",
     "exception": false,
     "start_time": "2022-04-11T19:09:15.541836",
     "status": "completed"
    },
    "tags": []
   },
   "outputs": [],
   "source": [
    "import os\n",
    "label_encode = {0:\"healthy\",1:\"multiple_diseases\",2:\"rust\",3:\"scab\"}\n",
    "\n",
    "\n"
   ]
  },
  {
   "cell_type": "code",
   "execution_count": null,
   "id": "533bf71f",
   "metadata": {
    "execution": {
     "iopub.execute_input": "2022-04-11T19:09:15.631609Z",
     "iopub.status.busy": "2022-04-11T19:09:15.630970Z",
     "iopub.status.idle": "2022-04-11T19:09:15.633781Z",
     "shell.execute_reply": "2022-04-11T19:09:15.634174Z",
     "shell.execute_reply.started": "2022-04-11T17:46:52.787366Z"
    },
    "papermill": {
     "duration": 0.033389,
     "end_time": "2022-04-11T19:09:15.634318",
     "exception": false,
     "start_time": "2022-04-11T19:09:15.600929",
     "status": "completed"
    },
    "tags": []
   },
   "outputs": [],
   "source": [
    "train_df.shape"
   ]
  },
  {
   "cell_type": "code",
   "execution_count": null,
   "id": "122bb925",
   "metadata": {
    "execution": {
     "iopub.execute_input": "2022-04-11T19:09:15.693567Z",
     "iopub.status.busy": "2022-04-11T19:09:15.692865Z",
     "iopub.status.idle": "2022-04-11T19:09:15.695572Z",
     "shell.execute_reply": "2022-04-11T19:09:15.695968Z",
     "shell.execute_reply.started": "2022-04-11T17:46:52.798848Z"
    },
    "papermill": {
     "duration": 0.035166,
     "end_time": "2022-04-11T19:09:15.696100",
     "exception": false,
     "start_time": "2022-04-11T19:09:15.660934",
     "status": "completed"
    },
    "tags": []
   },
   "outputs": [],
   "source": [
    "train_df.iloc[0]['image_id']"
   ]
  },
  {
   "cell_type": "code",
   "execution_count": null,
   "id": "718a70db",
   "metadata": {
    "execution": {
     "iopub.execute_input": "2022-04-11T19:09:15.753612Z",
     "iopub.status.busy": "2022-04-11T19:09:15.752909Z",
     "iopub.status.idle": "2022-04-11T19:09:16.284819Z",
     "shell.execute_reply": "2022-04-11T19:09:16.284319Z",
     "shell.execute_reply.started": "2022-04-11T17:46:52.808452Z"
    },
    "papermill": {
     "duration": 0.562283,
     "end_time": "2022-04-11T19:09:16.284950",
     "exception": false,
     "start_time": "2022-04-11T19:09:15.722667",
     "status": "completed"
    },
    "tags": []
   },
   "outputs": [],
   "source": [
    "from sklearn.model_selection import train_test_split\n",
    "\n",
    "train_df,validate_df = train_test_split(train_df,test_size=0.2)"
   ]
  },
  {
   "cell_type": "code",
   "execution_count": null,
   "id": "1f39bf89",
   "metadata": {
    "execution": {
     "iopub.execute_input": "2022-04-11T19:09:16.342896Z",
     "iopub.status.busy": "2022-04-11T19:09:16.342026Z",
     "iopub.status.idle": "2022-04-11T19:09:16.344638Z",
     "shell.execute_reply": "2022-04-11T19:09:16.344205Z",
     "shell.execute_reply.started": "2022-04-11T17:48:27.170714Z"
    },
    "papermill": {
     "duration": 0.033105,
     "end_time": "2022-04-11T19:09:16.344753",
     "exception": false,
     "start_time": "2022-04-11T19:09:16.311648",
     "status": "completed"
    },
    "tags": []
   },
   "outputs": [],
   "source": [
    "new_img_size = (224,224)"
   ]
  },
  {
   "cell_type": "code",
   "execution_count": null,
   "id": "f09a2e4e",
   "metadata": {
    "execution": {
     "iopub.execute_input": "2022-04-11T19:09:16.404231Z",
     "iopub.status.busy": "2022-04-11T19:09:16.403247Z",
     "iopub.status.idle": "2022-04-11T19:11:43.209856Z",
     "shell.execute_reply": "2022-04-11T19:11:43.208930Z",
     "shell.execute_reply.started": "2022-04-11T17:51:44.967795Z"
    },
    "papermill": {
     "duration": 146.838856,
     "end_time": "2022-04-11T19:11:43.210007",
     "exception": false,
     "start_time": "2022-04-11T19:09:16.371151",
     "status": "completed"
    },
    "tags": []
   },
   "outputs": [],
   "source": [
    "img = Image.open(f'images/{train_df.iloc[0][\"image_id\"]}.jpg')\n",
    "img=img.resize(new_img_size)\n",
    "images_train = np.array([np.asarray(img)])\n",
    "\n",
    "for i in range(1,train_df.shape[0]):\n",
    "    img = Image.open(f'images/{train_df.iloc[i][\"image_id\"]}.jpg')\n",
    "    img = img.resize(new_img_size)\n",
    "    images_train = np.concatenate((images_train,np.array([np.asarray(img)])),axis=0)\n"
   ]
  },
  {
   "cell_type": "code",
   "execution_count": null,
   "id": "5ca37055",
   "metadata": {
    "execution": {
     "iopub.execute_input": "2022-04-11T19:11:43.269509Z",
     "iopub.status.busy": "2022-04-11T19:11:43.268787Z",
     "iopub.status.idle": "2022-04-11T19:12:07.844535Z",
     "shell.execute_reply": "2022-04-11T19:12:07.843603Z",
     "shell.execute_reply.started": "2022-04-11T17:54:05.286396Z"
    },
    "papermill": {
     "duration": 24.607874,
     "end_time": "2022-04-11T19:12:07.844682",
     "exception": false,
     "start_time": "2022-04-11T19:11:43.236808",
     "status": "completed"
    },
    "tags": []
   },
   "outputs": [],
   "source": [
    "img = Image.open(f'images/{validate_df.iloc[0][\"image_id\"]}.jpg')\n",
    "img=img.resize(new_img_size)\n",
    "images_validate = np.array([np.asarray(img)])\n",
    "for i in range(1,validate_df.shape[0]):\n",
    "    img = Image.open(f'images/{validate_df.iloc[i][\"image_id\"]}.jpg')\n",
    "    img = img.resize(new_img_size)\n",
    "    images_validate = np.concatenate((images_validate,np.array([np.asarray(img)])),axis=0)"
   ]
  },
  {
   "cell_type": "code",
   "execution_count": null,
   "id": "39c8d98b",
   "metadata": {
    "execution": {
     "iopub.execute_input": "2022-04-11T19:12:07.903214Z",
     "iopub.status.busy": "2022-04-11T19:12:07.902691Z",
     "iopub.status.idle": "2022-04-11T19:15:32.813132Z",
     "shell.execute_reply": "2022-04-11T19:15:32.812644Z",
     "shell.execute_reply.started": "2022-04-11T17:54:31.789980Z"
    },
    "papermill": {
     "duration": 204.942165,
     "end_time": "2022-04-11T19:15:32.813290",
     "exception": false,
     "start_time": "2022-04-11T19:12:07.871125",
     "status": "completed"
    },
    "tags": []
   },
   "outputs": [],
   "source": [
    "img = Image.open(f'images/{test_df.iloc[0][\"image_id\"]}.jpg')\n",
    "img=img.resize(new_img_size)\n",
    "images_test = np.array([np.asarray(img)])\n",
    "for i in range(1,test_df.shape[0]):\n",
    "    img = Image.open(f'images/{test_df.iloc[i][\"image_id\"]}.jpg')\n",
    "    img = img.resize(new_img_size)\n",
    "    images_test = np.concatenate((images_test,np.array([np.asarray(img)])),axis=0)"
   ]
  },
  {
   "cell_type": "code",
   "execution_count": null,
   "id": "42f8f8d5",
   "metadata": {
    "execution": {
     "iopub.execute_input": "2022-04-11T19:15:32.873162Z",
     "iopub.status.busy": "2022-04-11T19:15:32.872621Z",
     "iopub.status.idle": "2022-04-11T19:15:32.876459Z",
     "shell.execute_reply": "2022-04-11T19:15:32.876838Z",
     "shell.execute_reply.started": "2022-04-11T17:58:06.636503Z"
    },
    "papermill": {
     "duration": 0.036586,
     "end_time": "2022-04-11T19:15:32.876974",
     "exception": false,
     "start_time": "2022-04-11T19:15:32.840388",
     "status": "completed"
    },
    "tags": []
   },
   "outputs": [],
   "source": [
    "print(\"Training set is of shape : \",images_train.shape)\n",
    "print(\"Validation set is of shape : \",images_validate.shape)\n",
    "print(\"Test set is of shape : \",images_test.shape)"
   ]
  },
  {
   "cell_type": "markdown",
   "id": "05a5e373",
   "metadata": {
    "papermill": {
     "duration": 0.026332,
     "end_time": "2022-04-11T19:15:32.929923",
     "exception": false,
     "start_time": "2022-04-11T19:15:32.903591",
     "status": "completed"
    },
    "tags": []
   },
   "source": [
    "## Model building\n",
    "\n",
    "Lets start with a base CNN model"
   ]
  },
  {
   "cell_type": "code",
   "execution_count": null,
   "id": "1f204599",
   "metadata": {
    "execution": {
     "iopub.execute_input": "2022-04-11T19:15:32.990184Z",
     "iopub.status.busy": "2022-04-11T19:15:32.989673Z",
     "iopub.status.idle": "2022-04-11T19:15:35.446239Z",
     "shell.execute_reply": "2022-04-11T19:15:35.445808Z",
     "shell.execute_reply.started": "2022-04-11T18:01:01.932551Z"
    },
    "papermill": {
     "duration": 2.489692,
     "end_time": "2022-04-11T19:15:35.446377",
     "exception": false,
     "start_time": "2022-04-11T19:15:32.956685",
     "status": "completed"
    },
    "tags": []
   },
   "outputs": [],
   "source": [
    "model = Sequential([\n",
    "    layers.Rescaling(1./255.,input_shape=(224,224,3)),\n",
    "    layers.Conv2D(8,(3,3),activation='relu'),\n",
    "    layers.MaxPooling2D(2,2),\n",
    "    layers.Dropout(0.2),\n",
    "    layers.Conv2D(16,(3,3),activation='relu'),\n",
    "    layers.MaxPooling2D(2,2),\n",
    "    layers.Dropout(0.2),\n",
    "    layers.Conv2D(32,(3,3),activation='relu'),\n",
    "    layers.MaxPooling2D(2,2),\n",
    "    layers.Dropout(0.2),\n",
    "    layers.Flatten(),\n",
    "    layers.Dense(256,activation='relu'),\n",
    "    layers.Dense(64,activation='relu'),\n",
    "    layers.Dense(4,activation='softmax'),   \n",
    "])\n",
    "model.build()"
   ]
  },
  {
   "cell_type": "code",
   "execution_count": null,
   "id": "ab7e3505",
   "metadata": {
    "execution": {
     "iopub.execute_input": "2022-04-11T19:15:35.506825Z",
     "iopub.status.busy": "2022-04-11T19:15:35.506046Z",
     "iopub.status.idle": "2022-04-11T19:15:35.515665Z",
     "shell.execute_reply": "2022-04-11T19:15:35.516075Z",
     "shell.execute_reply.started": "2022-04-11T18:03:43.840394Z"
    },
    "papermill": {
     "duration": 0.042671,
     "end_time": "2022-04-11T19:15:35.516207",
     "exception": false,
     "start_time": "2022-04-11T19:15:35.473536",
     "status": "completed"
    },
    "tags": []
   },
   "outputs": [],
   "source": [
    "model.compile(\n",
    "    optimizer='adam',\n",
    "    loss = tf.losses.SparseCategoricalCrossentropy(),\n",
    "    metrics=['accuracy']\n",
    ")"
   ]
  },
  {
   "cell_type": "code",
   "execution_count": null,
   "id": "768d5b5d",
   "metadata": {
    "execution": {
     "iopub.execute_input": "2022-04-11T19:15:35.580213Z",
     "iopub.status.busy": "2022-04-11T19:15:35.579362Z",
     "iopub.status.idle": "2022-04-11T19:15:52.301550Z",
     "shell.execute_reply": "2022-04-11T19:15:52.301965Z",
     "shell.execute_reply.started": "2022-04-11T18:05:26.185382Z"
    },
    "papermill": {
     "duration": 16.757617,
     "end_time": "2022-04-11T19:15:52.302130",
     "exception": false,
     "start_time": "2022-04-11T19:15:35.544513",
     "status": "completed"
    },
    "tags": []
   },
   "outputs": [],
   "source": [
    "batch_size = 32\n",
    "epochs = 15\n",
    "\n",
    "model.fit(\n",
    "    images_train,\n",
    "    train_df['label'],\n",
    "    batch_size=batch_size,\n",
    "    epochs=epochs,\n",
    "    validation_data=(images_validate,validate_df['label'])\n",
    ")"
   ]
  },
  {
   "cell_type": "code",
   "execution_count": null,
   "id": "59142abb",
   "metadata": {
    "execution": {
     "iopub.execute_input": "2022-04-11T19:15:52.485901Z",
     "iopub.status.busy": "2022-04-11T19:15:52.485370Z",
     "iopub.status.idle": "2022-04-11T19:15:52.503782Z",
     "shell.execute_reply": "2022-04-11T19:15:52.503173Z",
     "shell.execute_reply.started": "2022-04-11T18:15:57.543741Z"
    },
    "papermill": {
     "duration": 0.108492,
     "end_time": "2022-04-11T19:15:52.503909",
     "exception": false,
     "start_time": "2022-04-11T19:15:52.395417",
     "status": "completed"
    },
    "tags": []
   },
   "outputs": [],
   "source": [
    "data_augmentaion = Sequential([\n",
    "    layers.RandomRotation(factor=(-0.2,0.2),seed = 123),\n",
    "    layers.RandomZoom(0.1),\n",
    "])"
   ]
  },
  {
   "cell_type": "code",
   "execution_count": null,
   "id": "d3b070a6",
   "metadata": {
    "execution": {
     "iopub.execute_input": "2022-04-11T19:15:52.690221Z",
     "iopub.status.busy": "2022-04-11T19:15:52.689318Z",
     "iopub.status.idle": "2022-04-11T19:15:52.916043Z",
     "shell.execute_reply": "2022-04-11T19:15:52.915461Z",
     "shell.execute_reply.started": "2022-04-11T18:16:56.493475Z"
    },
    "papermill": {
     "duration": 0.328442,
     "end_time": "2022-04-11T19:15:52.916176",
     "exception": false,
     "start_time": "2022-04-11T19:15:52.587734",
     "status": "completed"
    },
    "tags": []
   },
   "outputs": [],
   "source": [
    "model = Sequential([\n",
    "    layers.Rescaling(1./255.,input_shape=(224,224,3)),\n",
    "    data_augmentaion,\n",
    "    layers.Conv2D(8,(3,3),activation='relu'),\n",
    "    layers.MaxPooling2D(2,2),\n",
    "    layers.Dropout(0.2),\n",
    "    layers.Conv2D(16,(3,3),activation='relu'),\n",
    "    layers.MaxPooling2D(2,2),\n",
    "    layers.Dropout(0.2),\n",
    "    layers.Conv2D(32,(3,3),activation='relu'),\n",
    "    layers.MaxPooling2D(2,2),\n",
    "    layers.Dropout(0.4),\n",
    "    layers.Flatten(),\n",
    "    layers.Dense(256,activation='relu'),\n",
    "    layers.Dense(64,activation='relu'),\n",
    "    layers.Dense(4,activation='softmax'),   \n",
    "])\n",
    "model.build()"
   ]
  },
  {
   "cell_type": "code",
   "execution_count": null,
   "id": "39f587f4",
   "metadata": {
    "execution": {
     "iopub.execute_input": "2022-04-11T19:15:53.093378Z",
     "iopub.status.busy": "2022-04-11T19:15:53.092507Z",
     "iopub.status.idle": "2022-04-11T19:16:31.610699Z",
     "shell.execute_reply": "2022-04-11T19:16:31.609905Z",
     "shell.execute_reply.started": "2022-04-11T18:16:59.492832Z"
    },
    "papermill": {
     "duration": 38.61097,
     "end_time": "2022-04-11T19:16:31.610832",
     "exception": false,
     "start_time": "2022-04-11T19:15:52.999862",
     "status": "completed"
    },
    "tags": []
   },
   "outputs": [],
   "source": [
    "model.compile(\n",
    "    optimizer='adam',\n",
    "    loss = tf.losses.SparseCategoricalCrossentropy(),\n",
    "    metrics=['accuracy']\n",
    ")\n",
    "\n",
    "batch_size = 32\n",
    "epochs = 50\n",
    "\n",
    "history = model.fit(\n",
    "    images_train,\n",
    "    train_df['label'],\n",
    "    batch_size=batch_size,\n",
    "    epochs=epochs,\n",
    "    validation_data=(images_validate,validate_df['label'])\n",
    ")"
   ]
  },
  {
   "cell_type": "code",
   "execution_count": null,
   "id": "e692fce9",
   "metadata": {
    "execution": {
     "iopub.execute_input": "2022-04-11T19:16:32.219023Z",
     "iopub.status.busy": "2022-04-11T19:16:32.215350Z",
     "iopub.status.idle": "2022-04-11T19:16:32.636241Z",
     "shell.execute_reply": "2022-04-11T19:16:32.636780Z",
     "shell.execute_reply.started": "2022-04-11T18:22:18.958842Z"
    },
    "papermill": {
     "duration": 0.725057,
     "end_time": "2022-04-11T19:16:32.636939",
     "exception": false,
     "start_time": "2022-04-11T19:16:31.911882",
     "status": "completed"
    },
    "tags": []
   },
   "outputs": [],
   "source": [
    "train_acc = history.history['accuracy']\n",
    "validate_acc = history.history['val_accuracy']\n",
    "epoch_ = range(1,epochs+1)\n",
    "\n",
    "plt.plot(epoch_,train_acc,'r',label='Training')\n",
    "plt.plot(epoch_,validate_acc,'b',label='Validation')\n",
    "plt.legend()\n",
    "plt.show()"
   ]
  },
  {
   "cell_type": "code",
   "execution_count": null,
   "id": "bbf72371",
   "metadata": {
    "execution": {
     "iopub.execute_input": "2022-04-11T19:16:33.246210Z",
     "iopub.status.busy": "2022-04-11T19:16:33.245290Z",
     "iopub.status.idle": "2022-04-11T19:16:34.046936Z",
     "shell.execute_reply": "2022-04-11T19:16:34.046464Z",
     "shell.execute_reply.started": "2022-04-11T18:25:42.757331Z"
    },
    "papermill": {
     "duration": 1.109048,
     "end_time": "2022-04-11T19:16:34.047078",
     "exception": false,
     "start_time": "2022-04-11T19:16:32.938030",
     "status": "completed"
    },
    "tags": []
   },
   "outputs": [],
   "source": [
    "predictions = model.predict(images_test)"
   ]
  },
  {
   "cell_type": "code",
   "execution_count": null,
   "id": "1a130e99",
   "metadata": {
    "execution": {
     "iopub.execute_input": "2022-04-11T19:16:34.857503Z",
     "iopub.status.busy": "2022-04-11T19:16:34.856710Z",
     "iopub.status.idle": "2022-04-11T19:16:34.861914Z",
     "shell.execute_reply": "2022-04-11T19:16:34.862510Z",
     "shell.execute_reply.started": "2022-04-11T18:25:52.503830Z"
    },
    "papermill": {
     "duration": 0.515387,
     "end_time": "2022-04-11T19:16:34.862697",
     "exception": false,
     "start_time": "2022-04-11T19:16:34.347310",
     "status": "completed"
    },
    "tags": []
   },
   "outputs": [],
   "source": [
    "predictions.shape"
   ]
  },
  {
   "cell_type": "code",
   "execution_count": null,
   "id": "a533305d",
   "metadata": {
    "execution": {
     "iopub.execute_input": "2022-04-11T19:16:35.505868Z",
     "iopub.status.busy": "2022-04-11T19:16:35.504951Z",
     "iopub.status.idle": "2022-04-11T19:16:35.506710Z",
     "shell.execute_reply": "2022-04-11T19:16:35.507139Z",
     "shell.execute_reply.started": "2022-04-11T18:29:37.425070Z"
    },
    "papermill": {
     "duration": 0.311922,
     "end_time": "2022-04-11T19:16:35.507287",
     "exception": false,
     "start_time": "2022-04-11T19:16:35.195365",
     "status": "completed"
    },
    "tags": []
   },
   "outputs": [],
   "source": [
    "predictions_df = pd.DataFrame(np.round(predictions,2))\n",
    "submission_df = pd.concat([test_df,predictions_df],axis=1)"
   ]
  },
  {
   "cell_type": "code",
   "execution_count": null,
   "id": "e2144474",
   "metadata": {
    "execution": {
     "iopub.execute_input": "2022-04-11T19:16:36.120978Z",
     "iopub.status.busy": "2022-04-11T19:16:36.120297Z",
     "iopub.status.idle": "2022-04-11T19:16:36.123121Z",
     "shell.execute_reply": "2022-04-11T19:16:36.123535Z",
     "shell.execute_reply.started": "2022-04-11T18:29:42.436006Z"
    },
    "papermill": {
     "duration": 0.314442,
     "end_time": "2022-04-11T19:16:36.123668",
     "exception": false,
     "start_time": "2022-04-11T19:16:35.809226",
     "status": "completed"
    },
    "tags": []
   },
   "outputs": [],
   "source": [
    "submission_df.head()"
   ]
  },
  {
   "cell_type": "code",
   "execution_count": null,
   "id": "3a2d405c",
   "metadata": {
    "execution": {
     "iopub.execute_input": "2022-04-11T19:16:36.735471Z",
     "iopub.status.busy": "2022-04-11T19:16:36.734580Z",
     "iopub.status.idle": "2022-04-11T19:16:36.746291Z",
     "shell.execute_reply": "2022-04-11T19:16:36.745851Z",
     "shell.execute_reply.started": "2022-04-11T19:08:06.450358Z"
    },
    "papermill": {
     "duration": 0.323043,
     "end_time": "2022-04-11T19:16:36.746422",
     "exception": false,
     "start_time": "2022-04-11T19:16:36.423379",
     "status": "completed"
    },
    "tags": []
   },
   "outputs": [],
   "source": [
    "submission_df.rename(columns={k:label_encode[k] for k in range(0,4)}).to_csv(\"submission.csv\",index=False)"
   ]
  }
 ],
 "metadata": {
  "kernelspec": {
   "display_name": "Python 3 (ipykernel)",
   "language": "python",
   "name": "python3"
  },
  "language_info": {
   "codemirror_mode": {
    "name": "ipython",
    "version": 3
   },
   "file_extension": ".py",
   "mimetype": "text/x-python",
   "name": "python",
   "nbconvert_exporter": "python",
   "pygments_lexer": "ipython3",
   "version": "3.8.8"
  },
  "papermill": {
   "default_parameters": {},
   "duration": 458.512015,
   "end_time": "2022-04-11T19:16:40.667107",
   "environment_variables": {},
   "exception": null,
   "input_path": "__notebook__.ipynb",
   "output_path": "__notebook__.ipynb",
   "parameters": {},
   "start_time": "2022-04-11T19:09:02.155092",
   "version": "2.3.3"
  },
  "toc": {
   "base_numbering": 1,
   "nav_menu": {},
   "number_sections": true,
   "sideBar": true,
   "skip_h1_title": false,
   "title_cell": "Table of Contents",
   "title_sidebar": "Contents",
   "toc_cell": false,
   "toc_position": {},
   "toc_section_display": true,
   "toc_window_display": false
  }
 },
 "nbformat": 4,
 "nbformat_minor": 5
}
